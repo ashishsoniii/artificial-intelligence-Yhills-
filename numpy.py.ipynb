{
 "cells": [
  {
   "cell_type": "markdown",
   "id": "ff3812b2",
   "metadata": {},
   "source": [
    "## numpy module\n"
   ]
  },
  {
   "cell_type": "markdown",
   "id": "6c887607",
   "metadata": {},
   "source": [
    "'''Why use NumPy?\n",
    "\n",
    "NumPy arrays are faster and more compact than Python lists. \n",
    "An array consumes less memory and is convenient to use.\n",
    "NumPy uses much less memory to store data and it provides \n",
    "a mechanism of specifying the data types. \n",
    "This allows the code to be optimized even further.\n",
    "\n",
    "array()    \n",
    "linspace()   \n",
    "logspace()   \n",
    "arange()    \n",
    "zeros()   \n",
    "ones()    \n",
    "\n",
    "\n",
    "'''"
   ]
  },
  {
   "cell_type": "code",
   "execution_count": 2,
   "id": "ca3cca65",
   "metadata": {},
   "outputs": [],
   "source": [
    "import numpy as np"
   ]
  },
  {
   "cell_type": "code",
   "execution_count": 103,
   "id": "c10f9df1",
   "metadata": {},
   "outputs": [
    {
     "name": "stdout",
     "output_type": "stream",
     "text": [
      "[6, 5, 3]\n",
      "[6, 5, 3]\n"
     ]
    }
   ],
   "source": [
    "\n",
    "### creating arrray using numpy ###\n",
    "\n",
    "# list to array\n",
    "simple_list = [6, 5, 3]\n",
    "print(simple_list)\n",
    "np.array(simple_list)\n",
    "print(simple_list)\n"
   ]
  },
  {
   "cell_type": "code",
   "execution_count": null,
   "id": "33bf0cab",
   "metadata": {},
   "outputs": [],
   "source": [
    "# give array of 1 to 20 in sored form \n",
    "np.arange(20)\n"
   ]
  },
  {
   "cell_type": "code",
   "execution_count": 4,
   "id": "6dd44d2f",
   "metadata": {},
   "outputs": [
    {
     "name": "stdout",
     "output_type": "stream",
     "text": [
      "[1 3 6]\n"
     ]
    }
   ],
   "source": [
    "arr = np.array([1, 3, 6])\n",
    "print(arr)"
   ]
  },
  {
   "cell_type": "code",
   "execution_count": 6,
   "id": "a1aa957e",
   "metadata": {},
   "outputs": [
    {
     "data": {
      "text/plain": [
       "array([[1, 2, 6],\n",
       "       [5, 7, 2],\n",
       "       [7, 5, 0]])"
      ]
     },
     "execution_count": 6,
     "metadata": {},
     "output_type": "execute_result"
    }
   ],
   "source": [
    "list_of_lists = [[1, 2, 6], [5, 7, 2], [7, 5, 0]]\n",
    "np.array(list_of_lists)\n",
    "\n"
   ]
  },
  {
   "cell_type": "code",
   "execution_count": 104,
   "id": "dbd05c5c",
   "metadata": {},
   "outputs": [
    {
     "data": {
      "text/plain": [
       "array([ 5,  6,  7,  8,  9, 10, 11, 12, 13, 14, 15, 16, 17, 18, 19, 20, 21,\n",
       "       22, 23, 24, 25, 26, 27, 28, 29])"
      ]
     },
     "execution_count": 104,
     "metadata": {},
     "output_type": "execute_result"
    }
   ],
   "source": [
    "\n",
    "# a-range --->>> given range of function \n",
    "np.arange(5, 30)\n"
   ]
  },
  {
   "cell_type": "code",
   "execution_count": 10,
   "id": "990495dc",
   "metadata": {},
   "outputs": [
    {
     "data": {
      "text/plain": [
       "array([ 5,  9, 13, 17, 21, 25, 29])"
      ]
     },
     "execution_count": 10,
     "metadata": {},
     "output_type": "execute_result"
    }
   ],
   "source": [
    "np.arange(5, 30, 4)\n"
   ]
  },
  {
   "cell_type": "code",
   "execution_count": 11,
   "id": "7a56c9e2",
   "metadata": {},
   "outputs": [
    {
     "data": {
      "text/plain": [
       "array([0., 0., 0., 0., 0., 0., 0., 0., 0., 0., 0., 0., 0., 0., 0., 0., 0.,\n",
       "       0., 0., 0., 0., 0., 0., 0., 0., 0., 0., 0., 0., 0., 0., 0., 0., 0.,\n",
       "       0., 0., 0., 0., 0., 0., 0., 0., 0., 0., 0., 0., 0., 0., 0., 0., 0.,\n",
       "       0., 0., 0., 0., 0., 0., 0., 0., 0., 0., 0., 0., 0., 0., 0., 0., 0.,\n",
       "       0., 0., 0., 0., 0., 0., 0., 0., 0., 0., 0., 0., 0., 0., 0., 0., 0.,\n",
       "       0., 0., 0., 0., 0., 0., 0., 0., 0., 0., 0., 0., 0., 0., 0.])"
      ]
     },
     "execution_count": 11,
     "metadata": {},
     "output_type": "execute_result"
    }
   ],
   "source": [
    "# gives 100 zero of float data type by default\n",
    "np.zeros(100)\n"
   ]
  },
  {
   "cell_type": "code",
   "execution_count": 12,
   "id": "cf6fa86d",
   "metadata": {},
   "outputs": [
    {
     "data": {
      "text/plain": [
       "array([0, 0, 0, 0, 0, 0, 0, 0, 0, 0])"
      ]
     },
     "execution_count": 12,
     "metadata": {},
     "output_type": "execute_result"
    }
   ],
   "source": [
    "# 10 zeros of int daat type\n",
    "np.zeros(10, dtype=int)\n"
   ]
  },
  {
   "cell_type": "code",
   "execution_count": 16,
   "id": "163b33dd",
   "metadata": {},
   "outputs": [
    {
     "data": {
      "text/plain": [
       "array([[1., 1., 1., 1., 1.],\n",
       "       [1., 1., 1., 1., 1.]])"
      ]
     },
     "execution_count": 16,
     "metadata": {},
     "output_type": "execute_result"
    }
   ],
   "source": [
    "# ones matrix of 2x5\n",
    "np.ones((2,5))\n"
   ]
  },
  {
   "cell_type": "code",
   "execution_count": 17,
   "id": "11e71de6",
   "metadata": {},
   "outputs": [
    {
     "data": {
      "text/plain": [
       "array([0.  , 0.25, 0.5 , 0.75, 1.  ])"
      ]
     },
     "execution_count": 17,
     "metadata": {},
     "output_type": "execute_result"
    }
   ],
   "source": [
    "# linear space -->linspace\n",
    "np.linspace(0, 1, 5)\n"
   ]
  },
  {
   "cell_type": "code",
   "execution_count": 18,
   "id": "9eb08a5b",
   "metadata": {},
   "outputs": [
    {
     "data": {
      "text/plain": [
       "array([ 0.        ,  3.33333333,  6.66666667, 10.        , 13.33333333,\n",
       "       16.66666667, 20.        ])"
      ]
     },
     "execution_count": 18,
     "metadata": {},
     "output_type": "execute_result"
    }
   ],
   "source": [
    "#  will reach 20 with 5 gaps inmiddle\n",
    "np.linspace(0, 20, 7)\n"
   ]
  },
  {
   "cell_type": "code",
   "execution_count": 19,
   "id": "0559516f",
   "metadata": {},
   "outputs": [
    {
     "data": {
      "text/plain": [
       "array([[1, 0, 0, 0, 0, 0, 0, 0, 0, 0],\n",
       "       [0, 1, 0, 0, 0, 0, 0, 0, 0, 0],\n",
       "       [0, 0, 1, 0, 0, 0, 0, 0, 0, 0],\n",
       "       [0, 0, 0, 1, 0, 0, 0, 0, 0, 0],\n",
       "       [0, 0, 0, 0, 1, 0, 0, 0, 0, 0],\n",
       "       [0, 0, 0, 0, 0, 1, 0, 0, 0, 0],\n",
       "       [0, 0, 0, 0, 0, 0, 1, 0, 0, 0],\n",
       "       [0, 0, 0, 0, 0, 0, 0, 1, 0, 0],\n",
       "       [0, 0, 0, 0, 0, 0, 0, 0, 1, 0],\n",
       "       [0, 0, 0, 0, 0, 0, 0, 0, 0, 1]])"
      ]
     },
     "execution_count": 19,
     "metadata": {},
     "output_type": "execute_result"
    }
   ],
   "source": [
    "# gives identity matrix of 10x10 of int daata typr\n",
    "np.eye(10, dtype=int)\n"
   ]
  },
  {
   "cell_type": "code",
   "execution_count": 20,
   "id": "c1760614",
   "metadata": {},
   "outputs": [
    {
     "data": {
      "text/plain": [
       "array([[0.88788076, 0.0889047 , 0.02705273, 0.77387958],\n",
       "       [0.66613681, 0.40941143, 0.13036737, 0.90139885]])"
      ]
     },
     "execution_count": 20,
     "metadata": {},
     "output_type": "execute_result"
    }
   ],
   "source": [
    "# given randam matrix of 2x4 wiwth fload values(+ve values)\n",
    "np.random.rand(2, 4)\n"
   ]
  },
  {
   "cell_type": "code",
   "execution_count": 21,
   "id": "ecc19289",
   "metadata": {},
   "outputs": [
    {
     "data": {
      "text/plain": [
       "array([[-0.2549545 ,  0.4946414 ,  0.72329833,  0.62909166],\n",
       "       [ 0.47900858, -0.16935219,  0.22327487, -0.02823164]])"
      ]
     },
     "execution_count": 21,
     "metadata": {},
     "output_type": "execute_result"
    }
   ],
   "source": [
    "# given randam integer matrix of 2x4 with float values(+ve/-ve both values)\n",
    "\n",
    "np.random.randn(2, 4)\n"
   ]
  },
  {
   "cell_type": "code",
   "execution_count": 70,
   "id": "a3a8f3f6",
   "metadata": {},
   "outputs": [
    {
     "data": {
      "text/plain": [
       "9"
      ]
     },
     "execution_count": 70,
     "metadata": {},
     "output_type": "execute_result"
    }
   ],
   "source": [
    "# gives random integer from selected range\n",
    "np.random.randint(2, 10)\n"
   ]
  },
  {
   "cell_type": "code",
   "execution_count": 74,
   "id": "d4373a16",
   "metadata": {},
   "outputs": [
    {
     "data": {
      "text/plain": [
       "array([97, 12, 16, 69])"
      ]
     },
     "execution_count": 74,
     "metadata": {},
     "output_type": "execute_result"
    }
   ],
   "source": [
    "# in range of 2 to 100 4 random integer will be picked up\n",
    "np.random.randint(2, 100, 4)\n"
   ]
  },
  {
   "cell_type": "code",
   "execution_count": 105,
   "id": "f0b0201c",
   "metadata": {},
   "outputs": [
    {
     "data": {
      "text/plain": [
       "array([ 0,  1,  2,  3,  4,  5,  6,  7,  8,  9, 10, 11, 12, 13, 14, 15, 16,\n",
       "       17, 18, 19, 20, 21, 22, 23, 24, 25, 26, 27, 28, 29])"
      ]
     },
     "execution_count": 105,
     "metadata": {},
     "output_type": "execute_result"
    }
   ],
   "source": [
    "np.arange(30)"
   ]
  },
  {
   "cell_type": "code",
   "execution_count": 109,
   "id": "9199c4ce",
   "metadata": {},
   "outputs": [
    {
     "data": {
      "text/plain": [
       "array([ 0,  1,  2,  3,  4,  5,  6,  7,  8,  9, 10, 11, 12, 13, 14, 15, 16,\n",
       "       17, 18, 19, 20, 21, 22, 23, 24, 25, 26, 27, 28, 29])"
      ]
     },
     "execution_count": 109,
     "metadata": {},
     "output_type": "execute_result"
    }
   ],
   "source": [
    "# storing sorted array in range 0 to 30\n",
    "sample_array = np.arange(30)\n",
    "sample_array"
   ]
  },
  {
   "cell_type": "code",
   "execution_count": 112,
   "id": "2c4b535f",
   "metadata": {},
   "outputs": [
    {
     "data": {
      "text/plain": [
       "array([[ 0,  1,  2,  3,  4,  5],\n",
       "       [ 6,  7,  8,  9, 10, 11],\n",
       "       [12, 13, 14, 15, 16, 17],\n",
       "       [18, 19, 20, 21, 22, 23],\n",
       "       [24, 25, 26, 27, 28, 29]])"
      ]
     },
     "execution_count": 112,
     "metadata": {},
     "output_type": "execute_result"
    }
   ],
   "source": [
    "sample_array.reshape(5, 6)\n"
   ]
  },
  {
   "cell_type": "code",
   "execution_count": 126,
   "id": "70d84f03",
   "metadata": {},
   "outputs": [
    {
     "data": {
      "text/plain": [
       "array([71, 76,  4,  5, 54, 92, 76, 57, 52,  5, 40, 13, 92, 57, 65, 46, 63,\n",
       "       83, 37, 41])"
      ]
     },
     "execution_count": 126,
     "metadata": {},
     "output_type": "execute_result"
    }
   ],
   "source": [
    "rand_array = np.random.randint(3, 100, 20)\n",
    "rand_array"
   ]
  },
  {
   "cell_type": "code",
   "execution_count": 127,
   "id": "dabe514a",
   "metadata": {},
   "outputs": [
    {
     "data": {
      "text/plain": [
       "4"
      ]
     },
     "execution_count": 127,
     "metadata": {},
     "output_type": "execute_result"
    }
   ],
   "source": [
    "# gives minimum element from arr\n",
    "rand_array.min()"
   ]
  },
  {
   "cell_type": "code",
   "execution_count": 129,
   "id": "79e7a35c",
   "metadata": {},
   "outputs": [
    {
     "data": {
      "text/plain": [
       "2"
      ]
     },
     "execution_count": 129,
     "metadata": {},
     "output_type": "execute_result"
    }
   ],
   "source": [
    "# Gives index of minimum element\n",
    "rand_array.argmin()\n"
   ]
  },
  {
   "cell_type": "code",
   "execution_count": 131,
   "id": "e17aff2d",
   "metadata": {},
   "outputs": [
    {
     "data": {
      "text/plain": [
       "(30,)"
      ]
     },
     "execution_count": 131,
     "metadata": {},
     "output_type": "execute_result"
    }
   ],
   "source": [
    "sample_array\n",
    "\n",
    "sample_array.shape\n"
   ]
  },
  {
   "cell_type": "code",
   "execution_count": 133,
   "id": "a93f451d",
   "metadata": {},
   "outputs": [
    {
     "data": {
      "text/plain": [
       "array([[ 0,  1,  2,  3,  4,  5],\n",
       "       [ 6,  7,  8,  9, 10, 11],\n",
       "       [12, 13, 14, 15, 16, 17],\n",
       "       [18, 19, 20, 21, 22, 23],\n",
       "       [24, 25, 26, 27, 28, 29]])"
      ]
     },
     "execution_count": 133,
     "metadata": {},
     "output_type": "execute_result"
    }
   ],
   "source": [
    "sample_array.reshape(5, 6)\n"
   ]
  },
  {
   "cell_type": "code",
   "execution_count": 134,
   "id": "62404b23",
   "metadata": {},
   "outputs": [
    {
     "data": {
      "text/plain": [
       "dtype('int32')"
      ]
     },
     "execution_count": 134,
     "metadata": {},
     "output_type": "execute_result"
    }
   ],
   "source": [
    "# gives type of arr like int 32/64 string etc\n",
    "sample_array.dtype\n"
   ]
  },
  {
   "cell_type": "code",
   "execution_count": 136,
   "id": "6fd8e204",
   "metadata": {},
   "outputs": [
    {
     "data": {
      "text/plain": [
       "array([[1., 0., 0., 0., 0.],\n",
       "       [0., 1., 0., 0., 0.],\n",
       "       [0., 0., 1., 0., 0.],\n",
       "       [0., 0., 0., 1., 0.],\n",
       "       [0., 0., 0., 0., 1.]])"
      ]
     },
     "execution_count": 136,
     "metadata": {},
     "output_type": "execute_result"
    }
   ],
   "source": [
    "# eye is for identity matrix\n",
    "a = np.eye(5)\n",
    "a\n",
    "# a.T"
   ]
  },
  {
   "cell_type": "code",
   "execution_count": 137,
   "id": "d6e00122",
   "metadata": {},
   "outputs": [
    {
     "data": {
      "text/plain": [
       "array([[1., 0., 0., 0., 0.],\n",
       "       [0., 1., 0., 0., 0.],\n",
       "       [0., 0., 1., 0., 0.],\n",
       "       [0., 0., 0., 1., 0.],\n",
       "       [0., 0., 0., 0., 1.]])"
      ]
     },
     "execution_count": 137,
     "metadata": {},
     "output_type": "execute_result"
    }
   ],
   "source": [
    "a.T"
   ]
  },
  {
   "cell_type": "markdown",
   "id": "e60a6dff",
   "metadata": {},
   "source": [
    "# ARRAY 1D"
   ]
  },
  {
   "cell_type": "code",
   "execution_count": 138,
   "id": "28d44d18",
   "metadata": {},
   "outputs": [
    {
     "data": {
      "text/plain": [
       "array([10, 11, 12, 13, 14, 15, 16, 17, 18, 19, 20])"
      ]
     },
     "execution_count": 138,
     "metadata": {},
     "output_type": "execute_result"
    }
   ],
   "source": [
    "sample_array = np.arange(10, 21)\n",
    "sample_array"
   ]
  },
  {
   "cell_type": "code",
   "execution_count": 140,
   "id": "cd9d4781",
   "metadata": {},
   "outputs": [
    {
     "data": {
      "text/plain": [
       "18"
      ]
     },
     "execution_count": 140,
     "metadata": {},
     "output_type": "execute_result"
    }
   ],
   "source": [
    "\n",
    "sample_array[8]\n"
   ]
  },
  {
   "cell_type": "code",
   "execution_count": 165,
   "id": "383afc9c",
   "metadata": {},
   "outputs": [
    {
     "data": {
      "text/plain": [
       "array([3, 4, 5])"
      ]
     },
     "execution_count": 165,
     "metadata": {},
     "output_type": "execute_result"
    }
   ],
   "source": [
    "\n",
    "#  index --> 2 3 4\n",
    "sample_array[2:5]\n"
   ]
  },
  {
   "cell_type": "code",
   "execution_count": 169,
   "id": "df0341ad",
   "metadata": {},
   "outputs": [
    {
     "data": {
      "text/plain": [
       "array([11, 12, 13, 14, 15, 16, 17, 18, 19, 20, 21, 22, 23, 24, 25, 26, 27,\n",
       "       28, 29, 30, 31, 32, 33, 34, 35, 36, 37, 38, 39, 40])"
      ]
     },
     "execution_count": 169,
     "metadata": {},
     "output_type": "execute_result"
    }
   ],
   "source": [
    "sample_array+5\n",
    "sample_array"
   ]
  },
  {
   "cell_type": "code",
   "execution_count": 147,
   "id": "76d40968",
   "metadata": {},
   "outputs": [
    {
     "data": {
      "text/plain": [
       "array([1000101,     101,     101,     101, 1000101, 1000101, 1000101,\n",
       "            17,      18,      19,      20])"
      ]
     },
     "execution_count": 147,
     "metadata": {},
     "output_type": "execute_result"
    }
   ],
   "source": [
    "\n",
    "sample_array[1:4] = 101\n",
    "sample_array\n"
   ]
  },
  {
   "cell_type": "code",
   "execution_count": 144,
   "id": "8d69a415",
   "metadata": {},
   "outputs": [
    {
     "data": {
      "text/plain": [
       "array([ 10, 101, 101, 101,  14,  15,  16])"
      ]
     },
     "execution_count": 144,
     "metadata": {},
     "output_type": "execute_result"
    }
   ],
   "source": [
    "subset_sample_Arrray = sample_array[0:7]\n",
    "subset_sample_Arrray"
   ]
  },
  {
   "cell_type": "code",
   "execution_count": 145,
   "id": "5aad86d7",
   "metadata": {},
   "outputs": [
    {
     "data": {
      "text/plain": [
       "array([1000101, 1000101, 1000101, 1000101, 1000101, 1000101, 1000101])"
      ]
     },
     "execution_count": 145,
     "metadata": {},
     "output_type": "execute_result"
    }
   ],
   "source": [
    "\n",
    "subset_sample_Arrray[:] = 1000101\n",
    "subset_sample_Arrray\n"
   ]
  },
  {
   "cell_type": "code",
   "execution_count": 149,
   "id": "49febe33",
   "metadata": {},
   "outputs": [
    {
     "data": {
      "text/plain": [
       "array([[50, 20,  1,  2],\n",
       "       [20, 43,  2, 22],\n",
       "       [44, 55, 66, 65]])"
      ]
     },
     "execution_count": 149,
     "metadata": {},
     "output_type": "execute_result"
    }
   ],
   "source": [
    "sample_matrix = np.array(([50, 20, 1, 2], [20, 43, 2, 22], [44, 55, 66, 65]))\n",
    "sample_matrix"
   ]
  },
  {
   "cell_type": "code",
   "execution_count": 150,
   "id": "796c89cd",
   "metadata": {},
   "outputs": [
    {
     "data": {
      "text/plain": [
       "1"
      ]
     },
     "execution_count": 150,
     "metadata": {},
     "output_type": "execute_result"
    }
   ],
   "source": [
    "sample_matrix[0][2]\n"
   ]
  },
  {
   "cell_type": "code",
   "execution_count": 151,
   "id": "90d5e831",
   "metadata": {},
   "outputs": [
    {
     "data": {
      "text/plain": [
       "array([44, 55, 66, 65])"
      ]
     },
     "execution_count": 151,
     "metadata": {},
     "output_type": "execute_result"
    }
   ],
   "source": [
    "sample_matrix[2]"
   ]
  },
  {
   "cell_type": "code",
   "execution_count": 154,
   "id": "98c9f330",
   "metadata": {},
   "outputs": [
    {
     "data": {
      "text/plain": [
       "array([44, 55, 66, 65])"
      ]
     },
     "execution_count": 154,
     "metadata": {},
     "output_type": "execute_result"
    }
   ],
   "source": [
    "sample_matrix[2, :]\n"
   ]
  },
  {
   "cell_type": "code",
   "execution_count": 155,
   "id": "ea0b287c",
   "metadata": {},
   "outputs": [
    {
     "data": {
      "text/plain": [
       "array([[ 2,  1],\n",
       "       [22,  2],\n",
       "       [65, 66]])"
      ]
     },
     "execution_count": 155,
     "metadata": {},
     "output_type": "execute_result"
    }
   ],
   "source": [
    "sample_matrix[:, (3, 2)]"
   ]
  },
  {
   "cell_type": "code",
   "execution_count": 156,
   "id": "163702d2",
   "metadata": {},
   "outputs": [
    {
     "data": {
      "text/plain": [
       "array([ 1,  2,  3,  4,  5,  6,  7,  8,  9, 10, 11, 12, 13, 14, 15, 16, 17,\n",
       "       18, 19, 20, 21, 22, 23, 24, 25, 26, 27, 28, 29, 30])"
      ]
     },
     "execution_count": 156,
     "metadata": {},
     "output_type": "execute_result"
    }
   ],
   "source": [
    "sample_array = np.arange(1, 31)\n",
    "sample_array"
   ]
  },
  {
   "cell_type": "code",
   "execution_count": 158,
   "id": "db67aab6",
   "metadata": {},
   "outputs": [
    {
     "data": {
      "text/plain": [
       "array([ True,  True,  True,  True,  True,  True,  True,  True,  True,\n",
       "       False, False, False, False, False, False, False, False, False,\n",
       "       False, False, False, False, False, False, False, False, False,\n",
       "       False, False, False])"
      ]
     },
     "execution_count": 158,
     "metadata": {},
     "output_type": "execute_result"
    }
   ],
   "source": [
    "bool = sample_array < 10\n",
    "bool"
   ]
  },
  {
   "cell_type": "code",
   "execution_count": 159,
   "id": "77ac106b",
   "metadata": {},
   "outputs": [
    {
     "data": {
      "text/plain": [
       "array([1, 2, 3, 4, 5, 6, 7, 8, 9])"
      ]
     },
     "execution_count": 159,
     "metadata": {},
     "output_type": "execute_result"
    }
   ],
   "source": [
    "sample_array[bool]"
   ]
  },
  {
   "cell_type": "code",
   "execution_count": 163,
   "id": "4c1fa431",
   "metadata": {},
   "outputs": [],
   "source": [
    "      ### Methods ####\n",
    "\n",
    "\n",
    "# sample_array+sample_array\n",
    "# np.exp(sample_array)\n",
    "# np.sqrt(sample_array)\n",
    "# np.log(sample_array)\n",
    "# np.max(sample_array)\n",
    "# np.min(sample_array)\n",
    "# np.argmax(sample_array)\n",
    "# np.argmin(sample_array)\n",
    "# np.square(sample_array)\n",
    "# np.std(sample_array)\n",
    "# np.var(sample_array)\n",
    "# np.mean(sample_array)\n",
    "\n",
    "# array = np.random.randn(3, 6)\n",
    "# array\n",
    "\n",
    "# np.round(array, decimals=2)\n",
    "\n",
    "\n"
   ]
  },
  {
   "cell_type": "code",
   "execution_count": 4,
   "id": "c85d6d49",
   "metadata": {},
   "outputs": [
    {
     "data": {
      "text/plain": [
       "array(['cricket', 'fball', 'golf'], dtype='<U7')"
      ]
     },
     "execution_count": 4,
     "metadata": {},
     "output_type": "execute_result"
    }
   ],
   "source": [
    "sports = np.array(['golf', 'cricket', 'fball', 'cricket'])\n",
    "np.unique(sports)"
   ]
  },
  {
   "cell_type": "code",
   "execution_count": null,
   "id": "0230e85c",
   "metadata": {},
   "outputs": [],
   "source": []
  },
  {
   "cell_type": "code",
   "execution_count": 3,
   "id": "da076b27",
   "metadata": {},
   "outputs": [],
   "source": [
    "labels =['w','x','y','z']\n",
    "sample_lists =[10,20,30,50]\n",
    "array=np.array([1,2,3,8])\n",
    "dict ={'w':10 ,'x': 20,'y': 30 ,'z':50}"
   ]
  },
  {
   "cell_type": "code",
   "execution_count": null,
   "id": "a9cb3902",
   "metadata": {},
   "outputs": [],
   "source": []
  },
  {
   "cell_type": "code",
   "execution_count": null,
   "id": "59fbf4f9",
   "metadata": {},
   "outputs": [],
   "source": []
  }
 ],
 "metadata": {
  "kernelspec": {
   "display_name": "Python 3 (ipykernel)",
   "language": "python",
   "name": "python3"
  },
  "language_info": {
   "codemirror_mode": {
    "name": "ipython",
    "version": 3
   },
   "file_extension": ".py",
   "mimetype": "text/x-python",
   "name": "python",
   "nbconvert_exporter": "python",
   "pygments_lexer": "ipython3",
   "version": "3.9.12"
  }
 },
 "nbformat": 4,
 "nbformat_minor": 5
}
