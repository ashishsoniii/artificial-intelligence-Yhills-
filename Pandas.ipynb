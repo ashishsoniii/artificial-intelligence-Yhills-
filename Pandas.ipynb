{
 "cells": [
  {
   "cell_type": "markdown",
   "id": "4cb365a0",
   "metadata": {},
   "source": [
    "# PANDAS"
   ]
  },
  {
   "cell_type": "code",
   "execution_count": 1,
   "id": "11eae23f",
   "metadata": {},
   "outputs": [],
   "source": [
    "import numpy as np\n",
    "import pandas as pd"
   ]
  },
  {
   "cell_type": "code",
   "execution_count": 3,
   "id": "8e2dab36",
   "metadata": {},
   "outputs": [],
   "source": [
    "labels =['w','x','y','z']\n",
    "sample_lists =[10,20,30,50]\n",
    "array=np.array([1,2,3,8])\n",
    "dict ={'w':10 ,'x': 20,'y': 30 ,'z':50}"
   ]
  },
  {
   "cell_type": "code",
   "execution_count": 6,
   "id": "02f9dfdb",
   "metadata": {},
   "outputs": [
    {
     "data": {
      "text/plain": [
       "0    10\n",
       "1    20\n",
       "2    30\n",
       "3    50\n",
       "dtype: int64"
      ]
     },
     "execution_count": 6,
     "metadata": {},
     "output_type": "execute_result"
    }
   ],
   "source": [
    "pd.Series(data=sample_lists)"
   ]
  },
  {
   "cell_type": "code",
   "execution_count": 14,
   "id": "8ad2ea5d",
   "metadata": {},
   "outputs": [
    {
     "data": {
      "text/plain": [
       "w    10\n",
       "x    20\n",
       "y    30\n",
       "z    50\n",
       "dtype: int64"
      ]
     },
     "execution_count": 14,
     "metadata": {},
     "output_type": "execute_result"
    }
   ],
   "source": [
    "pd.Series(data=sample_lists, index=labels)"
   ]
  },
  {
   "cell_type": "code",
   "execution_count": 15,
   "id": "7fae040f",
   "metadata": {},
   "outputs": [
    {
     "data": {
      "text/plain": [
       "w    10\n",
       "x    20\n",
       "y    30\n",
       "z    50\n",
       "dtype: int64"
      ]
     },
     "execution_count": 15,
     "metadata": {},
     "output_type": "execute_result"
    }
   ],
   "source": [
    "pd.Series(sample_lists, labels)"
   ]
  },
  {
   "cell_type": "code",
   "execution_count": 13,
   "id": "5b015dfe",
   "metadata": {},
   "outputs": [
    {
     "data": {
      "text/plain": [
       "w    1\n",
       "x    2\n",
       "y    3\n",
       "z    8\n",
       "dtype: int32"
      ]
     },
     "execution_count": 13,
     "metadata": {},
     "output_type": "execute_result"
    }
   ],
   "source": [
    "pd.Series(array,labels)"
   ]
  },
  {
   "cell_type": "code",
   "execution_count": 16,
   "id": "2223433d",
   "metadata": {},
   "outputs": [
    {
     "data": {
      "text/plain": [
       "w    10\n",
       "x    20\n",
       "y    30\n",
       "z    50\n",
       "dtype: int64"
      ]
     },
     "execution_count": 16,
     "metadata": {},
     "output_type": "execute_result"
    }
   ],
   "source": [
    "pd.Series(dict)\n"
   ]
  },
  {
   "cell_type": "markdown",
   "id": "26c4a217",
   "metadata": {},
   "source": [
    "# Pandas dataframe and indexing"
   ]
  },
  {
   "cell_type": "code",
   "execution_count": 17,
   "id": "772621bf",
   "metadata": {},
   "outputs": [
    {
     "data": {
      "text/plain": [
       "cricket       1\n",
       "football      2\n",
       "basketball    3\n",
       "golf          4\n",
       "dtype: int64"
      ]
     },
     "execution_count": 17,
     "metadata": {},
     "output_type": "execute_result"
    }
   ],
   "source": [
    "sports1=pd.Series([1,2,3,4],index=['cricket','football','basketball','golf'])\n",
    "sports1\n"
   ]
  },
  {
   "cell_type": "code",
   "execution_count": 18,
   "id": "0e79447e",
   "metadata": {},
   "outputs": [
    {
     "data": {
      "text/plain": [
       "2"
      ]
     },
     "execution_count": 18,
     "metadata": {},
     "output_type": "execute_result"
    }
   ],
   "source": [
    "sports1['football']\n"
   ]
  },
  {
   "cell_type": "code",
   "execution_count": 19,
   "id": "5d51ae2a",
   "metadata": {},
   "outputs": [
    {
     "data": {
      "text/plain": [
       "cricket     11\n",
       "football     2\n",
       "baseball     3\n",
       "golf         4\n",
       "dtype: int64"
      ]
     },
     "execution_count": 19,
     "metadata": {},
     "output_type": "execute_result"
    }
   ],
   "source": [
    "sports2=pd.Series([11,2,3,4],index=['cricket','football','baseball','golf'])\n",
    "sports2\n",
    "\n"
   ]
  },
  {
   "cell_type": "code",
   "execution_count": 20,
   "id": "33ce8c32",
   "metadata": {},
   "outputs": [
    {
     "data": {
      "text/plain": [
       "baseball       NaN\n",
       "basketball     NaN\n",
       "cricket       12.0\n",
       "football       4.0\n",
       "golf           8.0\n",
       "dtype: float64"
      ]
     },
     "execution_count": 20,
     "metadata": {},
     "output_type": "execute_result"
    }
   ],
   "source": [
    "sports1+sports2\n"
   ]
  },
  {
   "cell_type": "code",
   "execution_count": 21,
   "id": "fd82a051",
   "metadata": {},
   "outputs": [
    {
     "data": {
      "text/html": [
       "<div>\n",
       "<style scoped>\n",
       "    .dataframe tbody tr th:only-of-type {\n",
       "        vertical-align: middle;\n",
       "    }\n",
       "\n",
       "    .dataframe tbody tr th {\n",
       "        vertical-align: top;\n",
       "    }\n",
       "\n",
       "    .dataframe thead th {\n",
       "        text-align: right;\n",
       "    }\n",
       "</style>\n",
       "<table border=\"1\" class=\"dataframe\">\n",
       "  <thead>\n",
       "    <tr style=\"text-align: right;\">\n",
       "      <th></th>\n",
       "      <th>Score1</th>\n",
       "      <th>Score2</th>\n",
       "      <th>Score3</th>\n",
       "      <th>Score4</th>\n",
       "      <th>Score5</th>\n",
       "    </tr>\n",
       "  </thead>\n",
       "  <tbody>\n",
       "    <tr>\n",
       "      <th>A</th>\n",
       "      <td>0.260178</td>\n",
       "      <td>1.447598</td>\n",
       "      <td>1.222146</td>\n",
       "      <td>2.660967</td>\n",
       "      <td>0.390928</td>\n",
       "    </tr>\n",
       "    <tr>\n",
       "      <th>B</th>\n",
       "      <td>2.228602</td>\n",
       "      <td>0.145830</td>\n",
       "      <td>-2.402320</td>\n",
       "      <td>-0.133286</td>\n",
       "      <td>1.254453</td>\n",
       "    </tr>\n",
       "    <tr>\n",
       "      <th>C</th>\n",
       "      <td>-1.416621</td>\n",
       "      <td>2.447179</td>\n",
       "      <td>0.110242</td>\n",
       "      <td>1.020958</td>\n",
       "      <td>1.573984</td>\n",
       "    </tr>\n",
       "    <tr>\n",
       "      <th>D</th>\n",
       "      <td>1.306477</td>\n",
       "      <td>1.487649</td>\n",
       "      <td>0.545810</td>\n",
       "      <td>0.616988</td>\n",
       "      <td>-0.050436</td>\n",
       "    </tr>\n",
       "    <tr>\n",
       "      <th>E</th>\n",
       "      <td>1.022549</td>\n",
       "      <td>-0.411725</td>\n",
       "      <td>-1.785754</td>\n",
       "      <td>0.191912</td>\n",
       "      <td>1.937086</td>\n",
       "    </tr>\n",
       "    <tr>\n",
       "      <th>F</th>\n",
       "      <td>-0.114742</td>\n",
       "      <td>0.649181</td>\n",
       "      <td>-0.290891</td>\n",
       "      <td>1.514568</td>\n",
       "      <td>0.684048</td>\n",
       "    </tr>\n",
       "    <tr>\n",
       "      <th>G</th>\n",
       "      <td>0.300216</td>\n",
       "      <td>-2.022375</td>\n",
       "      <td>0.769565</td>\n",
       "      <td>0.811504</td>\n",
       "      <td>0.692923</td>\n",
       "    </tr>\n",
       "    <tr>\n",
       "      <th>H</th>\n",
       "      <td>-0.869954</td>\n",
       "      <td>-0.333796</td>\n",
       "      <td>-0.182079</td>\n",
       "      <td>0.042671</td>\n",
       "      <td>0.092271</td>\n",
       "    </tr>\n",
       "  </tbody>\n",
       "</table>\n",
       "</div>"
      ],
      "text/plain": [
       "     Score1    Score2    Score3    Score4    Score5\n",
       "A  0.260178  1.447598  1.222146  2.660967  0.390928\n",
       "B  2.228602  0.145830 -2.402320 -0.133286  1.254453\n",
       "C -1.416621  2.447179  0.110242  1.020958  1.573984\n",
       "D  1.306477  1.487649  0.545810  0.616988 -0.050436\n",
       "E  1.022549 -0.411725 -1.785754  0.191912  1.937086\n",
       "F -0.114742  0.649181 -0.290891  1.514568  0.684048\n",
       "G  0.300216 -2.022375  0.769565  0.811504  0.692923\n",
       "H -0.869954 -0.333796 -0.182079  0.042671  0.092271"
      ]
     },
     "execution_count": 21,
     "metadata": {},
     "output_type": "execute_result"
    }
   ],
   "source": [
    "df1=pd.DataFrame(np.random.randn(8,5),index='A B C D E F G H '.split(),columns='Score1 Score2 Score3 Score4 Score5'.split())\n",
    "df1\n"
   ]
  },
  {
   "cell_type": "code",
   "execution_count": 22,
   "id": "da9960cc",
   "metadata": {},
   "outputs": [
    {
     "data": {
      "text/html": [
       "<div>\n",
       "<style scoped>\n",
       "    .dataframe tbody tr th:only-of-type {\n",
       "        vertical-align: middle;\n",
       "    }\n",
       "\n",
       "    .dataframe tbody tr th {\n",
       "        vertical-align: top;\n",
       "    }\n",
       "\n",
       "    .dataframe thead th {\n",
       "        text-align: right;\n",
       "    }\n",
       "</style>\n",
       "<table border=\"1\" class=\"dataframe\">\n",
       "  <thead>\n",
       "    <tr style=\"text-align: right;\">\n",
       "      <th></th>\n",
       "      <th>Score1</th>\n",
       "      <th>Score2</th>\n",
       "      <th>Score3</th>\n",
       "      <th>Score4</th>\n",
       "      <th>Score5</th>\n",
       "      <th>Score6</th>\n",
       "    </tr>\n",
       "  </thead>\n",
       "  <tbody>\n",
       "    <tr>\n",
       "      <th>A</th>\n",
       "      <td>0.260178</td>\n",
       "      <td>1.447598</td>\n",
       "      <td>1.222146</td>\n",
       "      <td>2.660967</td>\n",
       "      <td>0.390928</td>\n",
       "      <td>1.707776</td>\n",
       "    </tr>\n",
       "    <tr>\n",
       "      <th>B</th>\n",
       "      <td>2.228602</td>\n",
       "      <td>0.145830</td>\n",
       "      <td>-2.402320</td>\n",
       "      <td>-0.133286</td>\n",
       "      <td>1.254453</td>\n",
       "      <td>2.374433</td>\n",
       "    </tr>\n",
       "    <tr>\n",
       "      <th>C</th>\n",
       "      <td>-1.416621</td>\n",
       "      <td>2.447179</td>\n",
       "      <td>0.110242</td>\n",
       "      <td>1.020958</td>\n",
       "      <td>1.573984</td>\n",
       "      <td>1.030558</td>\n",
       "    </tr>\n",
       "    <tr>\n",
       "      <th>D</th>\n",
       "      <td>1.306477</td>\n",
       "      <td>1.487649</td>\n",
       "      <td>0.545810</td>\n",
       "      <td>0.616988</td>\n",
       "      <td>-0.050436</td>\n",
       "      <td>2.794126</td>\n",
       "    </tr>\n",
       "    <tr>\n",
       "      <th>E</th>\n",
       "      <td>1.022549</td>\n",
       "      <td>-0.411725</td>\n",
       "      <td>-1.785754</td>\n",
       "      <td>0.191912</td>\n",
       "      <td>1.937086</td>\n",
       "      <td>0.610824</td>\n",
       "    </tr>\n",
       "    <tr>\n",
       "      <th>F</th>\n",
       "      <td>-0.114742</td>\n",
       "      <td>0.649181</td>\n",
       "      <td>-0.290891</td>\n",
       "      <td>1.514568</td>\n",
       "      <td>0.684048</td>\n",
       "      <td>0.534440</td>\n",
       "    </tr>\n",
       "    <tr>\n",
       "      <th>G</th>\n",
       "      <td>0.300216</td>\n",
       "      <td>-2.022375</td>\n",
       "      <td>0.769565</td>\n",
       "      <td>0.811504</td>\n",
       "      <td>0.692923</td>\n",
       "      <td>-1.722159</td>\n",
       "    </tr>\n",
       "    <tr>\n",
       "      <th>H</th>\n",
       "      <td>-0.869954</td>\n",
       "      <td>-0.333796</td>\n",
       "      <td>-0.182079</td>\n",
       "      <td>0.042671</td>\n",
       "      <td>0.092271</td>\n",
       "      <td>-1.203751</td>\n",
       "    </tr>\n",
       "  </tbody>\n",
       "</table>\n",
       "</div>"
      ],
      "text/plain": [
       "     Score1    Score2    Score3    Score4    Score5    Score6\n",
       "A  0.260178  1.447598  1.222146  2.660967  0.390928  1.707776\n",
       "B  2.228602  0.145830 -2.402320 -0.133286  1.254453  2.374433\n",
       "C -1.416621  2.447179  0.110242  1.020958  1.573984  1.030558\n",
       "D  1.306477  1.487649  0.545810  0.616988 -0.050436  2.794126\n",
       "E  1.022549 -0.411725 -1.785754  0.191912  1.937086  0.610824\n",
       "F -0.114742  0.649181 -0.290891  1.514568  0.684048  0.534440\n",
       "G  0.300216 -2.022375  0.769565  0.811504  0.692923 -1.722159\n",
       "H -0.869954 -0.333796 -0.182079  0.042671  0.092271 -1.203751"
      ]
     },
     "execution_count": 22,
     "metadata": {},
     "output_type": "execute_result"
    }
   ],
   "source": [
    "df1['Score6']=df1['Score1']+df1['Score2']\n",
    "df1\n"
   ]
  },
  {
   "cell_type": "code",
   "execution_count": 23,
   "id": "83a956ad",
   "metadata": {},
   "outputs": [
    {
     "data": {
      "text/html": [
       "<div>\n",
       "<style scoped>\n",
       "    .dataframe tbody tr th:only-of-type {\n",
       "        vertical-align: middle;\n",
       "    }\n",
       "\n",
       "    .dataframe tbody tr th {\n",
       "        vertical-align: top;\n",
       "    }\n",
       "\n",
       "    .dataframe thead th {\n",
       "        text-align: right;\n",
       "    }\n",
       "</style>\n",
       "<table border=\"1\" class=\"dataframe\">\n",
       "  <thead>\n",
       "    <tr style=\"text-align: right;\">\n",
       "      <th></th>\n",
       "      <th>ID</th>\n",
       "      <th>Name</th>\n",
       "      <th>Profit</th>\n",
       "    </tr>\n",
       "  </thead>\n",
       "  <tbody>\n",
       "    <tr>\n",
       "      <th>0</th>\n",
       "      <td>101</td>\n",
       "      <td>John</td>\n",
       "      <td>20</td>\n",
       "    </tr>\n",
       "    <tr>\n",
       "      <th>1</th>\n",
       "      <td>102</td>\n",
       "      <td>Mercy</td>\n",
       "      <td>54</td>\n",
       "    </tr>\n",
       "    <tr>\n",
       "      <th>2</th>\n",
       "      <td>103</td>\n",
       "      <td>Akash</td>\n",
       "      <td>56</td>\n",
       "    </tr>\n",
       "    <tr>\n",
       "      <th>3</th>\n",
       "      <td>107</td>\n",
       "      <td>Kavin</td>\n",
       "      <td>87</td>\n",
       "    </tr>\n",
       "    <tr>\n",
       "      <th>4</th>\n",
       "      <td>176</td>\n",
       "      <td>Lally</td>\n",
       "      <td>123</td>\n",
       "    </tr>\n",
       "  </tbody>\n",
       "</table>\n",
       "</div>"
      ],
      "text/plain": [
       "    ID   Name  Profit\n",
       "0  101   John      20\n",
       "1  102  Mercy      54\n",
       "2  103  Akash      56\n",
       "3  107  Kavin      87\n",
       "4  176  Lally     123"
      ]
     },
     "execution_count": 23,
     "metadata": {},
     "output_type": "execute_result"
    }
   ],
   "source": [
    "df2={'ID':['101','102','103','107','176'],'Name':['John','Mercy','Akash','Kavin','Lally'],'Profit':[20,54,56,87,123]}\n",
    "df=pd.DataFrame(df2)\n",
    "df\n"
   ]
  },
  {
   "cell_type": "code",
   "execution_count": 25,
   "id": "54d45b93",
   "metadata": {},
   "outputs": [],
   "source": [
    "# # df=pd.read_excel(\"CIT Schedule.xlsx\")  for external fiile\n",
    "# df.head()\n",
    "# df.info()\n",
    "# df.describe()"
   ]
  }
 ],
 "metadata": {
  "kernelspec": {
   "display_name": "Python 3 (ipykernel)",
   "language": "python",
   "name": "python3"
  },
  "language_info": {
   "codemirror_mode": {
    "name": "ipython",
    "version": 3
   },
   "file_extension": ".py",
   "mimetype": "text/x-python",
   "name": "python",
   "nbconvert_exporter": "python",
   "pygments_lexer": "ipython3",
   "version": "3.9.12"
  }
 },
 "nbformat": 4,
 "nbformat_minor": 5
}
